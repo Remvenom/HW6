{
 "cells": [
  {
   "cell_type": "markdown",
   "metadata": {},
   "source": [
    "# Домашнее задание к лекции \"Регулярные выражения\"\n",
    "Для зачета необходимо выполнить 4 задания.  \n",
    "Для зачета с отличием – все."
   ]
  },
  {
   "cell_type": "markdown",
   "metadata": {},
   "source": [
    "## Задание 1"
   ]
  },
  {
   "cell_type": "markdown",
   "metadata": {},
   "source": [
    "Напишите функцию, которая принимает на вход строку и проверяет является ли она валидным транспортным номером. Если да, то функция должна возвращать отдельно номер и регион."
   ]
  },
  {
   "cell_type": "code",
   "execution_count": 36,
   "metadata": {},
   "outputs": [
    {
     "data": {
      "text/plain": [
       "\"Номер автомобиля: ['А123АА'] Номер региона: ['199']\""
      ]
     },
     "execution_count": 36,
     "metadata": {},
     "output_type": "execute_result"
    }
   ],
   "source": [
    "import re\n",
    "\n",
    "def valid_num(num):\n",
    "    regex_num = '[а-яА-Я]\\d{3}[а-яА-Я]{2}\\d{2,3}'\n",
    "    if re.findall(regex_num, num):\n",
    "        short_num = re.findall ('[а-яА-Я]\\d{3}[а-яА-Я]{2}',num)\n",
    "        short_region = re.findall ('\\d{2,3}$',num)\n",
    "        return ('Номер автомобиля: {}'.format(short_num) + ' Номер региона: {}'.format(short_region))\n",
    "    else:\n",
    "        return('Номер {} введен неверно'.format(num))  \n",
    "        \n",
    "valid_num('А123АА199')"
   ]
  },
  {
   "cell_type": "markdown",
   "metadata": {},
   "source": [
    "## Задание 2"
   ]
  },
  {
   "cell_type": "markdown",
   "metadata": {},
   "source": [
    "Напишите функцию, которая проверяет e-mail адрес на валидность по стандарту RFC822: http://www.w3.org/Protocols/rfc822/. Для этого постарайтесь написать (в крайнем случае найти) самый полный шаблон для проверки e-mail адресов через регулярное выражение. Разберитесь и напишите примеры, какие ваш шаблон может не охватить."
   ]
  },
  {
   "cell_type": "code",
   "execution_count": null,
   "metadata": {},
   "outputs": [],
   "source": [
    "import re\n",
    "\n",
    "\n",
    "def email_check (email):\n",
    "    if re.findall('[A-Za-z0-9-_.]{4,}@[a-z0-9]{2,}\\.?[a-zA-Z]{2,4}', email):\n",
    "        return ('E-mail: {} введен верно'.format(email))\n",
    "    else:\n",
    "        return 'Неверный email'\n",
    "    \n",
    "    \n",
    "print(email_check('ms-z3x@gmail.com'))"
   ]
  },
  {
   "cell_type": "markdown",
   "metadata": {},
   "source": [
    "## Задание 3\n",
    "Напишите функцию, которая будет удалять все последовательные повторы слов из заданной строки."
   ]
  },
  {
   "cell_type": "code",
   "execution_count": 6,
   "metadata": {},
   "outputs": [
    {
     "name": "stdout",
     "output_type": "stream",
     "text": [
      "Удалить последовательные повторы из строки\n"
     ]
    }
   ],
   "source": [
    "import re\n",
    "\n",
    "def del_dubl(string):\n",
    "    del_space = re.sub('\\W+', ' ', string).strip()\n",
    "    return (re.sub(r'\\b([^\\W]+)(\\s+\\1)+', r'\\1', del_space, flags=re.I))\n",
    "\n",
    "print(del_dubl('Удалить последовательные повторы повторы повторы из строки строки'))"
   ]
  },
  {
   "cell_type": "markdown",
   "metadata": {},
   "source": [
    "## Задание 4\n",
    "Напишите функцию, которая будет проверять номер сотового телефона на валидность, если он валиден, то переводить его в формат:   \n",
    "+7(xxx)-xxx-xx-xx  \n",
    "Постарайтесь предусмотреть как можно больше адекватных форматов изначального ввода номера.\n",
    "Примеры правильных и неправильных форматов:\n",
    "- +7 955 555-55-55;\n",
    "- 955555555;\n",
    "- 8(955)555-55-55;\n",
    "- +7 955 555 55 55;\n",
    "- 7(955) 555-55-55;\n",
    "- +7 955+555+55+55."
   ]
  },
  {
   "cell_type": "code",
   "execution_count": 60,
   "metadata": {},
   "outputs": [],
   "source": [
    "phones=['+7 955 555-55-51',\n",
    "       '9555555552',\n",
    "       '8(955)555-55-53',\n",
    "       '+7 955 555 55 54',\n",
    "       '7(955) 555-55-55',\n",
    "       '+7 955+555+55+56']"
   ]
  },
  {
   "cell_type": "code",
   "execution_count": 61,
   "metadata": {},
   "outputs": [
    {
     "name": "stdout",
     "output_type": "stream",
     "text": [
      "+7 (955)-555-55-51\n",
      "+7 (955)-555-55-52\n",
      "+7 (955)-555-55-53\n",
      "+7 (955)-555-55-54\n",
      "+7 (955)-555-55-55\n",
      "+7 (955)-555-55-56\n"
     ]
    }
   ],
   "source": [
    "import re\n",
    "\n",
    "def num_convert(number):\n",
    "    phone_num=re.sub(r'[+\\s()-]','',number)\n",
    "    if len(phone_num) == 11:\n",
    "        phone_num=phone_num.replace(phone_num[0],'')\n",
    "    if len(phone_num) == 10 and phone_num.isdigit() == True:\n",
    "        phone_num= re.sub(r'(\\d{3})(\\d{3})(\\d{2})(\\d{2})',r'+7 (\\1)-\\2-\\3-\\4',phone_num)\n",
    "        print(phone_num)\n",
    "    else:\n",
    "        print('{} введен неверно'.format(number))\n",
    "\n",
    "\n",
    "for x in phones:\n",
    "    num_convert(x)"
   ]
  }
 ],
 "metadata": {
  "kernelspec": {
   "display_name": "Python 3",
   "language": "python",
   "name": "python3"
  },
  "language_info": {
   "codemirror_mode": {
    "name": "ipython",
    "version": 3
   },
   "file_extension": ".py",
   "mimetype": "text/x-python",
   "name": "python",
   "nbconvert_exporter": "python",
   "pygments_lexer": "ipython3",
   "version": "3.7.4"
  }
 },
 "nbformat": 4,
 "nbformat_minor": 2
}
